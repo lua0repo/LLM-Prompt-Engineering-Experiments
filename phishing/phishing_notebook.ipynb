Basic text classification using scikit-learn:

import pandas as pd
from sklearn.feature_extraction.text import TfidfVectorizer
from sklearn.linear_model import LogisticRegression
from sklearn.metrics import classification_report

# Load dataset
df = pd.read_csv("train.csv")

# Vectorize
vectorizer = TfidfVectorizer()
X = vectorizer.fit_transform(df["text"])
y = df["label"]

# Train model
model = LogisticRegression()
model.fit(X, y)

# Evaluate
test_df = pd.read_csv("test.csv")
X_test = vectorizer.transform(test_df["text"])
y_test = test_df["label"]
y_pred = model.predict(X_test)

print(classification_report(y_test, y_pred))
